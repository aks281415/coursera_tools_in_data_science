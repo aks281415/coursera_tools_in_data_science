{
 "cells": [
  {
   "cell_type": "markdown",
   "id": "af408bd2",
   "metadata": {},
   "source": [
    "# Data Science Tools and Ecosystem"
   ]
  },
  {
   "cell_type": "markdown",
   "id": "ec54c42e",
   "metadata": {},
   "source": [
    "# In this notebook, Data Science Tools and Ecosystem are summarized."
   ]
  },
  {
   "cell_type": "markdown",
   "id": "334b2397",
   "metadata": {},
   "source": [
    "# Objectives : -"
   ]
  },
  {
   "cell_type": "markdown",
   "id": "cd40bfad",
   "metadata": {},
   "source": [
    "* To learn about data science tools\n",
    "* To learn about languages used in data science."
   ]
  },
  {
   "cell_type": "markdown",
   "id": "a7f4953e",
   "metadata": {},
   "source": [
    "# Some of the popular languages that Data Scientists uses are:\n",
    "1.Python\n",
    "2.R\n",
    "3.SQL"
   ]
  },
  {
   "cell_type": "markdown",
   "id": "82d69ab8",
   "metadata": {},
   "source": [
    "# Some of the commonly used libraries used by Data Scientists include:\n",
    "1.Numpy\n",
    "2.Pandas\n",
    "3.Matplotlib"
   ]
  },
  {
   "cell_type": "markdown",
   "id": "f803bc30",
   "metadata": {},
   "source": [
    "# Data Science Tools\n",
    "1. MS EXCEL\n",
    "2. PYTHON FOR WEB SCRAPING\n",
    "3. JUPYTER NOTEBOOK"
   ]
  },
  {
   "cell_type": "markdown",
   "id": "469c9b4e",
   "metadata": {},
   "source": [
    "# MATHEMATICAL CALCULATIONS"
   ]
  },
  {
   "cell_type": "code",
   "execution_count": 4,
   "id": "dfb403c7",
   "metadata": {},
   "outputs": [
    {
     "data": {
      "text/plain": [
       "60"
      ]
     },
     "execution_count": 4,
     "metadata": {},
     "output_type": "execute_result"
    }
   ],
   "source": [
    "(3*4) * 5"
   ]
  },
  {
   "cell_type": "code",
   "execution_count": 7,
   "id": "d1a9012d",
   "metadata": {},
   "outputs": [
    {
     "data": {
      "text/plain": [
       "10"
      ]
     },
     "execution_count": 7,
     "metadata": {},
     "output_type": "execute_result"
    }
   ],
   "source": [
    "3+4+3"
   ]
  },
  {
   "cell_type": "markdown",
   "id": "72ec2877",
   "metadata": {},
   "source": [
    "# Multiply and Add Numbers"
   ]
  },
  {
   "cell_type": "code",
   "execution_count": 8,
   "id": "e1626a3d",
   "metadata": {},
   "outputs": [
    {
     "data": {
      "text/plain": [
       "25"
      ]
     },
     "execution_count": 8,
     "metadata": {},
     "output_type": "execute_result"
    }
   ],
   "source": [
    "4*5 + 5"
   ]
  },
  {
   "cell_type": "code",
   "execution_count": 5,
   "id": "699a902c",
   "metadata": {},
   "outputs": [
    {
     "name": "stdout",
     "output_type": "stream",
     "text": [
      "66\n"
     ]
    }
   ],
   "source": [
    "print(int(200/3))"
   ]
  },
  {
   "cell_type": "markdown",
   "id": "0ae78124",
   "metadata": {},
   "source": [
    "# ANKIT KUMAR"
   ]
  },
  {
   "cell_type": "code",
   "execution_count": null,
   "id": "27f1d52b",
   "metadata": {},
   "outputs": [],
   "source": []
  },
  {
   "cell_type": "code",
   "execution_count": null,
   "id": "42cd859b",
   "metadata": {},
   "outputs": [],
   "source": []
  },
  {
   "cell_type": "code",
   "execution_count": null,
   "id": "7b6101b7",
   "metadata": {},
   "outputs": [],
   "source": []
  },
  {
   "cell_type": "code",
   "execution_count": null,
   "id": "dc33abd5",
   "metadata": {},
   "outputs": [],
   "source": []
  },
  {
   "cell_type": "code",
   "execution_count": null,
   "id": "fbf7c263",
   "metadata": {},
   "outputs": [],
   "source": []
  },
  {
   "cell_type": "code",
   "execution_count": null,
   "id": "40857f50",
   "metadata": {},
   "outputs": [],
   "source": []
  },
  {
   "cell_type": "code",
   "execution_count": null,
   "id": "1e217180",
   "metadata": {},
   "outputs": [],
   "source": []
  },
  {
   "cell_type": "code",
   "execution_count": null,
   "id": "722cef1f",
   "metadata": {},
   "outputs": [],
   "source": []
  },
  {
   "cell_type": "code",
   "execution_count": null,
   "id": "626e0838",
   "metadata": {},
   "outputs": [],
   "source": []
  },
  {
   "cell_type": "code",
   "execution_count": null,
   "id": "7eb70556",
   "metadata": {},
   "outputs": [],
   "source": []
  },
  {
   "cell_type": "code",
   "execution_count": null,
   "id": "bfb4fec3",
   "metadata": {},
   "outputs": [],
   "source": []
  }
 ],
 "metadata": {
  "kernelspec": {
   "display_name": "Python 3 (ipykernel)",
   "language": "python",
   "name": "python3"
  },
  "language_info": {
   "codemirror_mode": {
    "name": "ipython",
    "version": 3
   },
   "file_extension": ".py",
   "mimetype": "text/x-python",
   "name": "python",
   "nbconvert_exporter": "python",
   "pygments_lexer": "ipython3",
   "version": "3.7.3"
  }
 },
 "nbformat": 4,
 "nbformat_minor": 5
}
